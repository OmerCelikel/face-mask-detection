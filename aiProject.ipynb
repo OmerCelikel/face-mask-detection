{
 "cells": [
  {
   "cell_type": "code",
   "execution_count": null,
   "id": "e0d7696e",
   "metadata": {},
   "outputs": [],
   "source": [
    "\"\"\"!pip install opencv-python\"\"\""
   ]
  },
  {
   "cell_type": "code",
   "execution_count": null,
   "id": "478733c6",
   "metadata": {},
   "outputs": [],
   "source": [
    "\"\"\"pip install matplotlib\"\"\""
   ]
  },
  {
   "cell_type": "code",
   "execution_count": null,
   "id": "d1d90df7",
   "metadata": {},
   "outputs": [],
   "source": [
    "\"\"\"img = cv2.imread('twoMen.jpeg')\"\"\""
   ]
  },
  {
   "cell_type": "code",
   "execution_count": null,
   "id": "abdb6775",
   "metadata": {},
   "outputs": [],
   "source": [
    "\"\"\"img.shape\"\"\""
   ]
  },
  {
   "cell_type": "code",
   "execution_count": null,
   "id": "a3e2a46a",
   "metadata": {},
   "outputs": [],
   "source": [
    "\"\"\"img[0]\"\"\""
   ]
  },
  {
   "cell_type": "code",
   "execution_count": null,
   "id": "e5792aa1",
   "metadata": {},
   "outputs": [],
   "source": [
    "\"\"\"plt.imshow(img)\"\"\""
   ]
  },
  {
   "cell_type": "code",
   "execution_count": null,
   "id": "f0a0696e",
   "metadata": {},
   "outputs": [],
   "source": [
    "\"\"\"while True:\n",
    "    faces = haar_data.detectMultiScale(img)\n",
    "    for x,y,w,h in faces:\n",
    "        cv2. rectangle (img, (x,y), (x+w, y+h), (255,0,255), 4)\n",
    "    cv2. imshow('result',img)\n",
    "    #27 ASCII of Escape\n",
    "    if cv2.waitKey(2) == 27:\n",
    "        break\n",
    "cv2. destroyAllWindows()\"\"\"\n"
   ]
  },
  {
   "cell_type": "code",
   "execution_count": null,
   "id": "5e74f05e",
   "metadata": {},
   "outputs": [],
   "source": [
    "\"\"\"# x, y, w, h\n",
    "haar_data.detectMultiScale(img)\"\"\""
   ]
  },
  {
   "cell_type": "code",
   "execution_count": null,
   "id": "32ec2073",
   "metadata": {},
   "outputs": [],
   "source": [
    "import cv2\n",
    "import matplotlib.pyplot as plt\n",
    "import numpy as np"
   ]
  },
  {
   "cell_type": "code",
   "execution_count": null,
   "id": "7816c391",
   "metadata": {},
   "outputs": [],
   "source": [
    "haar_data =cv2.CascadeClassifier('haarcascade_frontalface_default.xml')"
   ]
  },
  {
   "cell_type": "code",
   "execution_count": null,
   "id": "b32c2ab2",
   "metadata": {},
   "outputs": [],
   "source": [
    "#video capture 0 - from my main camera\n",
    "capture = cv2.VideoCapture(0)\n",
    "#without or with mask\n",
    "data = []\n",
    "while True:\n",
    "    flag, img = capture.read()\n",
    "    if flag:\n",
    "        faces = haar_data.detectMultiScale(img)\n",
    "        for x,y,w,h in faces:\n",
    "            cv2.rectangle(img, (x,y), (x+w, y+h), (255,0,255), 4)\n",
    "            #face shows just face x y coordinate\n",
    "            face = img[y:y+h, x:x+w, :]\n",
    "            face = cv2.resize(face,(50,50))\n",
    "            print(len(data))\n",
    "            if len(data)<400:\n",
    "                data.append(face)\n",
    "        cv2.imshow('result',img)\n",
    "        #27 - ASCII of Escape\n",
    "        if cv2.waitKey(2) == 27 or len(data)>=200:\n",
    "            break\n",
    "capture.release()\n",
    "cv2.destroyAllWindows()"
   ]
  },
  {
   "cell_type": "code",
   "execution_count": null,
   "id": "2dd8d2d5",
   "metadata": {},
   "outputs": [],
   "source": [
    "np.save(\"without_mask.npy\",data)"
   ]
  },
  {
   "cell_type": "code",
   "execution_count": null,
   "id": "a538fa45",
   "metadata": {},
   "outputs": [],
   "source": [
    "#np.save(\"with_mask.npy\",data)"
   ]
  },
  {
   "cell_type": "code",
   "execution_count": null,
   "id": "3ce6d8da",
   "metadata": {},
   "outputs": [],
   "source": [
    "plt.imshow(data[33])"
   ]
  },
  {
   "cell_type": "code",
   "execution_count": null,
   "id": "0f028bcc",
   "metadata": {},
   "outputs": [],
   "source": []
  }
 ],
 "metadata": {
  "kernelspec": {
   "display_name": "Python 3 (ipykernel)",
   "language": "python",
   "name": "python3"
  },
  "language_info": {
   "codemirror_mode": {
    "name": "ipython",
    "version": 3
   },
   "file_extension": ".py",
   "mimetype": "text/x-python",
   "name": "python",
   "nbconvert_exporter": "python",
   "pygments_lexer": "ipython3",
   "version": "3.10.1"
  }
 },
 "nbformat": 4,
 "nbformat_minor": 5
}
